{
 "cells": [
  {
   "cell_type": "markdown",
   "id": "210f2ae2",
   "metadata": {},
   "source": [
    "# Open Source Models\n",
    "\n",
    "Check out the Google Colab file for using tokenizers with various open source models:\n",
    "\n",
    "https://colab.research.google.com/drive/1O7wxbhORPExZymlfmU1uUgTls71m9-Rv?usp=sharing\n",
    "\n"
   ]
  },
  {
   "cell_type": "markdown",
   "id": "b8650920",
   "metadata": {},
   "source": []
  }
 ],
 "metadata": {
  "language_info": {
   "name": "python"
  }
 },
 "nbformat": 4,
 "nbformat_minor": 5
}
