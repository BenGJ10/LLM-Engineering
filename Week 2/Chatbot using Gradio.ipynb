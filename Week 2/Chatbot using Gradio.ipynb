{
 "cells": [
  {
   "cell_type": "markdown",
   "id": "59668fe4-012e-4d5f-95b3-54aa943725db",
   "metadata": {},
   "source": [
    "## Conversation AI Chabot using Gradio"
   ]
  },
  {
   "cell_type": "markdown",
   "id": "3fecb78f-fc03-4091-96a3-4af585682993",
   "metadata": {},
   "source": [
    "Gradio is an open-source Python package that allows you to quickly build a demo or web application for your machine learning model, API, or any arbitrary Python function. You can then share a link to your demo or web application in just a few seconds using Gradio's built-in sharing features."
   ]
  },
  {
   "cell_type": "code",
   "execution_count": 23,
   "id": "6a003e30-d32c-43ff-8995-822d7af129eb",
   "metadata": {},
   "outputs": [],
   "source": [
    "import os\n",
    "from dotenv import load_dotenv\n",
    "import openai\n",
    "import gradio as gr"
   ]
  },
  {
   "cell_type": "code",
   "execution_count": 24,
   "id": "e815ee10-a417-4a9a-aeaa-1d78ac616e6e",
   "metadata": {},
   "outputs": [
    {
     "name": "stdout",
     "output_type": "stream",
     "text": [
      "OpenAI API key exists and begins sk-proj-\n"
     ]
    }
   ],
   "source": [
    "load_dotenv()\n",
    "openai_api = os.getenv('OPENAI_API_KEY')\n",
    "\n",
    "if openai_api:\n",
    "    print(f\"OpenAI API key exists and begins {openai_api[:8]}\")\n",
    "else: \n",
    "    print(\"OpenAI API key is not set. Fix it and try again.\")"
   ]
  },
  {
   "cell_type": "code",
   "execution_count": 25,
   "id": "317a73bc-f631-47c6-95ca-afffa287db15",
   "metadata": {},
   "outputs": [],
   "source": [
    "openAI = OpenAI()\n",
    "MODEL = 'gpt-4o-mini'"
   ]
  },
  {
   "cell_type": "markdown",
   "id": "54b0dd0e-52ce-4a6c-9a69-510eea13ff45",
   "metadata": {},
   "source": [
    "We will write a function chat(message, history) where:\n",
    "message is the prompt to use\n",
    "history is the past conversation, in OpenAI format\n",
    "\n",
    "We will combine the system message, history and latest message, then call OpenAI."
   ]
  },
  {
   "cell_type": "markdown",
   "id": "8badcd0c-553b-4116-8fcb-9a17880fefea",
   "metadata": {},
   "source": [
    "## DeutschMeister: Your AI German Language Coach\""
   ]
  },
  {
   "cell_type": "code",
   "execution_count": 26,
   "id": "fc58683b-e9f0-4517-9271-c03d047ce132",
   "metadata": {},
   "outputs": [],
   "source": [
    "system_prompt = \"\"\"\n",
    "You are a professional German language educator. Your role is to help users learn, practice, and master the German language. \n",
    "You provide lessons, explanations, practice exercises, and exam preparation strategies — especially for standardized German language tests \n",
    "like the Goethe-Zertifikat, TestDaF, or TELC. \n",
    "\n",
    "Your response format must be clear and organized using markdown. Include:\n",
    "- Headings for grammar topics\n",
    "- Bullet points or numbered steps for explanations\n",
    "- Tables for grammar rules (e.g., article declensions, verb conjugations)\n",
    "- Code blocks for example sentences (wrapped in triple backticks)\n",
    "- Bold for key concepts\n",
    "- Italics for translations\n",
    "- Quizzes with blanks or multiple choice\n",
    "- Encourage the user to respond or ask questions\n",
    "\n",
    "Tailor your response to the user's selected level (A1–C2) and chosen mode:\n",
    "- \"Lesson Mode\": Provide structured lessons with examples\n",
    "- \"Practice Mode\": Give interactive exercises and corrections\n",
    "- \"Exam Prep Mode\": Simulate parts of German proficiency exams\n",
    "\n",
    "If the user asks something unrelated to the German language, politely refuse and guide them back.\n",
    "\n",
    "Be encouraging and structured like a real tutor. Offer learning plans if asked, and tailor content to the user’s level (A1–C2).\n",
    "\"\"\""
   ]
  },
  {
   "cell_type": "code",
   "execution_count": 31,
   "id": "234f979c-7658-4bc7-9709-447aa9c88857",
   "metadata": {},
   "outputs": [],
   "source": [
    "def chat_with_ai(message, history, level, mode):\n",
    "    \"\"\"\n",
    "    Handles a user message by sending it to the OpenAI Chat API along with chat history and system instructions.\n",
    "    \"\"\"\n",
    "    \n",
    "    custom_prompt = system_prompt +  f\"\\n\\nThe user is at level {level} and selected {mode} mode.\\n\"\n",
    "    messages = [{\"role\": \"system\", \"content\": custom_prompt}]\n",
    "\n",
    "    for item in history:\n",
    "        if isinstance(item, dict):\n",
    "            messages.append(item)\n",
    "        elif isinstance(item, (list, tuple)) and len(item) == 2:\n",
    "            user_msg, bot_reply = item\n",
    "            messages.append({\"role\": \"user\", \"content\": user_msg})\n",
    "            messages.append({\"role\": \"assistant\", \"content\": bot_reply})\n",
    "            \n",
    "    messages.append({\"role\": \"user\", \"content\": message})\n",
    "\n",
    "    response = openai.chat.completions.create(\n",
    "        model = MODEL,\n",
    "        messages = messages\n",
    "    )\n",
    "\n",
    "    reply = response.choices[0].message.content\n",
    "    history.append((message, reply))\n",
    "    \n",
    "    chatbot_messages = []\n",
    "    for user_msg, bot_msg in history:\n",
    "        chatbot_messages.append({\"role\": \"user\", \"content\": user_msg})\n",
    "        chatbot_messages.append({\"role\": \"assistant\", \"content\": bot_msg})\n",
    "\n",
    "    return chatbot_messages, history"
   ]
  },
  {
   "cell_type": "code",
   "execution_count": 32,
   "id": "e5f151e1-2f0b-4079-ac69-df1edf2e35a9",
   "metadata": {},
   "outputs": [
    {
     "name": "stdout",
     "output_type": "stream",
     "text": [
      "* Running on local URL:  http://127.0.0.1:7869\n",
      "* To create a public link, set `share=True` in `launch()`.\n"
     ]
    },
    {
     "data": {
      "text/html": [
       "<div><iframe src=\"http://127.0.0.1:7869/\" width=\"100%\" height=\"500\" allow=\"autoplay; camera; microphone; clipboard-read; clipboard-write;\" frameborder=\"0\" allowfullscreen></iframe></div>"
      ],
      "text/plain": [
       "<IPython.core.display.HTML object>"
      ]
     },
     "metadata": {},
     "output_type": "display_data"
    },
    {
     "data": {
      "text/plain": []
     },
     "execution_count": 32,
     "metadata": {},
     "output_type": "execute_result"
    }
   ],
   "source": [
    "with gr.Blocks(title = \"DeutschMeister: Your AI German Language Coach\") as demo:\n",
    "    gr.Markdown(\"## 🇩🇪 **DeutschMeister**\\n*Your AI German Language Coach for Exams, Lessons & Practice*\")\n",
    "\n",
    "    with gr.Row():\n",
    "        level = gr.Dropdown([\"A1\", \"A2\", \"B1\", \"B2\", \"C1\", \"C2\"], label = \"Your German Level\", value = \"A1\")\n",
    "        mode = gr.Radio([\"Lesson Mode\", \"Practice Mode\", \"Exam Prep Mode\"], label = \"Select Mode\", value = \"Lesson Mode\")\n",
    "\n",
    "    chatbot = gr.Chatbot(label = \"DeutschMeister\", render_markdown = True, type = \"messages\")\n",
    "    msg = gr.Textbox(label = \"Ask a question, request a lesson, or type an exercise...\")\n",
    "    clear = gr.Button(\"🧹 Clear Chat\")\n",
    "\n",
    "    history = gr.State([])\n",
    "\n",
    "    msg.submit(chat_with_ai, [msg, history, level, mode], [chatbot, history])\n",
    "    clear.click(lambda: ([], []), outputs = [chatbot, history])\n",
    "\n",
    "demo.launch(inline = True)"
   ]
  },
  {
   "cell_type": "code",
   "execution_count": null,
   "id": "94c8cce3-5558-40d4-851c-f87db9cf58b0",
   "metadata": {},
   "outputs": [],
   "source": []
  }
 ],
 "metadata": {
  "kernelspec": {
   "display_name": "Python 3 (ipykernel)",
   "language": "python",
   "name": "python3"
  },
  "language_info": {
   "codemirror_mode": {
    "name": "ipython",
    "version": 3
   },
   "file_extension": ".py",
   "mimetype": "text/x-python",
   "name": "python",
   "nbconvert_exporter": "python",
   "pygments_lexer": "ipython3",
   "version": "3.11.12"
  }
 },
 "nbformat": 4,
 "nbformat_minor": 5
}
