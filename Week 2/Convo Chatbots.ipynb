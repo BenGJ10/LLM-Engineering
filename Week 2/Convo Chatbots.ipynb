{
 "cells": [
  {
   "cell_type": "markdown",
   "id": "7c8c1d93-6022-4c43-8d30-860625a04bfe",
   "metadata": {},
   "source": [
    "## Adversarial AI Conversation between two Large Language Models"
   ]
  },
  {
   "cell_type": "code",
   "execution_count": 15,
   "id": "26323a0b-6843-4dc9-ade9-41352fea38e6",
   "metadata": {},
   "outputs": [],
   "source": [
    "# Importing dependencies\n",
    "import os\n",
    "import requests\n",
    "from dotenv import load_dotenv\n",
    "from openai import OpenAI\n",
    "import ollama\n",
    "from IPython.display import Markdown, display, update_display"
   ]
  },
  {
   "cell_type": "code",
   "execution_count": 4,
   "id": "b62c22c6-a746-464a-a764-f32390565ede",
   "metadata": {},
   "outputs": [
    {
     "name": "stdout",
     "output_type": "stream",
     "text": [
      "OpenAI API Key exists and begins with sk-proj-\n"
     ]
    }
   ],
   "source": [
    "load_dotenv(override = True)\n",
    "openai_api_key = os.getenv('OPENAI_API_KEY')\n",
    "\n",
    "if openai_api_key:\n",
    "    print(f\"OpenAI API Key exists and begins with {openai_api_key[:8]}\")\n",
    "else:\n",
    "    print(\"OpenAI API Key is not working properly. Please recheck!\")"
   ]
  },
  {
   "cell_type": "code",
   "execution_count": 5,
   "id": "8a949a65-1ce6-40b0-bfd5-d719dd210d90",
   "metadata": {},
   "outputs": [
    {
     "name": "stdout",
     "output_type": "stream",
     "text": [
      "Ollama is running...\n"
     ]
    }
   ],
   "source": [
    "ollama_model = os.getenv('OLLAMA_MODEL')\n",
    "\n",
    "if ollama_model:\n",
    "    print(\"Ollama is running...\")\n",
    "else:\n",
    "    print(\"Failed to establish connection to ollama. Please recheck!\")"
   ]
  },
  {
   "cell_type": "code",
   "execution_count": 6,
   "id": "5af4511c-bdc3-4654-a060-3e0aada7c985",
   "metadata": {},
   "outputs": [],
   "source": [
    "# Connecting to OpenAI\n",
    "openai = OpenAI()"
   ]
  },
  {
   "cell_type": "markdown",
   "id": "8849a3b8-a115-4a1e-bad0-1c5deba39a51",
   "metadata": {},
   "source": [
    "### What information is included in the API\n",
    "\n",
    "Typically we'll pass to the API:\n",
    "- The name of the model that should be used\n",
    "- A system message that gives overall context for the role the LLM is playing\n",
    "- A user message that provides the actual prompt\n",
    "\n",
    "There are other parameters that can be used, including **temperature** which is typically between 0 and 1; higher for more random output; lower for more focused and deterministic."
   ]
  },
  {
   "cell_type": "code",
   "execution_count": 7,
   "id": "dc0b4615-f115-4c88-9478-3d1376522c44",
   "metadata": {},
   "outputs": [],
   "source": [
    "system_message = \"You are an assistant that is great at telling jokes\"\n",
    "user_prompt = \"Tell a naughty joke for an audience of Data Scientists\""
   ]
  },
  {
   "cell_type": "markdown",
   "id": "12a9fa52-8f3e-4763-be79-668d99bcd01e",
   "metadata": {},
   "source": [
    "OpenAI’s chat models use a message array format to simulate a conversation. Each message has:\n",
    "- <b>role:</b> Who is speaking (system, user, assistant)\n",
    "- <b>content:</b> What they say (the actual message)"
   ]
  },
  {
   "cell_type": "code",
   "execution_count": 12,
   "id": "63e3bb4a-428b-4e0a-b182-60b8b3196a0f",
   "metadata": {},
   "outputs": [],
   "source": [
    "prompts = [\n",
    "    {\"role\": \"system\", \"content\": system_message},\n",
    "    {\"role\": \"user\", \"content\": user_prompt}\n",
    "]"
   ]
  },
  {
   "cell_type": "code",
   "execution_count": 13,
   "id": "c6225e30-47c2-4436-bc6e-317f7b945c2a",
   "metadata": {},
   "outputs": [
    {
     "name": "stdout",
     "output_type": "stream",
     "text": [
      "Why did the data scientist break up with the statistician?\n",
      "\n",
      "Because they found her mean too unstable and her confidence intervals too wide!\n"
     ]
    }
   ],
   "source": [
    "# Testing it out with gpt-4o-mini model\n",
    "\n",
    "completion = openai.chat.completions.create(model = 'gpt-4o-mini', messages = prompts)\n",
    "print(completion.choices[0].message.content)"
   ]
  },
  {
   "cell_type": "code",
   "execution_count": 14,
   "id": "ad029082-a06f-4375-b210-9b183561a35e",
   "metadata": {},
   "outputs": [
    {
     "name": "stdout",
     "output_type": "stream",
     "text": [
      "Why did the data scientist break up with the neural network?\n",
      "\n",
      "Because it kept overfitting and never gave them any real commitment!\n"
     ]
    }
   ],
   "source": [
    "# Trying out with GPT-4.1-mini where we use temperature setting that controls creativity \n",
    "\n",
    "completion = openai.chat.completions.create(\n",
    "    model = 'gpt-4.1-mini',\n",
    "    messages = prompts,\n",
    "    temperature = 0.6\n",
    ")\n",
    "\n",
    "print(completion.choices[0].message.content)"
   ]
  },
  {
   "cell_type": "code",
   "execution_count": 20,
   "id": "0ff61407-8a4c-497c-9337-e5d825a5dd53",
   "metadata": {},
   "outputs": [],
   "source": [
    "# Trying out with our ollama model\n",
    "\n",
    "prompt = f\"[System]: {system_message} [User]: {user_prompt}\"\n",
    "\n",
    "def query_ollama(ollama_prompt, model = \"llama3.2\"):\n",
    "    url = \"http://localhost:11434/api/generate\"\n",
    "    payload = {\n",
    "        \"model\": model,\n",
    "        \"prompt\": ollama_prompt,\n",
    "        \"stream\": False\n",
    "    }\n",
    "\n",
    "    \n",
    "    response = requests.post(url, json = payload)\n",
    "    if response.status_code == 200:    \n",
    "        return response.json()['response'].strip()\n",
    "    else:\n",
    "        print(\"Ollama response error:\", response.text)"
   ]
  },
  {
   "cell_type": "code",
   "execution_count": 21,
   "id": "a8219755-8401-486d-8070-ae0de15f0e62",
   "metadata": {},
   "outputs": [
    {
     "name": "stdout",
     "output_type": "stream",
     "text": [
      "[clears throat] Alright, folks! Here's one for you data scientists:\n",
      "\n",
      "Why did the logistic regression model go to therapy?\n",
      "\n",
      "(wait for it...)\n",
      "\n",
      "Because it was struggling to generalize its emotions and had a tendency to over-regularize its relationships!\n",
      "\n",
      "(ba-dum-tss)\n",
      "\n",
      "But seriously, why do we need to normalize our models? It's because they're trying too hard to fit the data and can't handle the edge cases – they just want to predict all the way out of their comfort zone! (Sorry, had to sneak in a machine learning pun!)\n",
      "\n",
      "How was that? Did I manage to \"curve\" your expectations?\n"
     ]
    }
   ],
   "source": [
    "response = query_ollama(ollama_prompt = prompt)\n",
    "print(response)"
   ]
  },
  {
   "cell_type": "markdown",
   "id": "ed0b3db1-79b1-4a66-8d01-0deb76d8f175",
   "metadata": {},
   "source": [
    "### Another question to check the capabilities of the models"
   ]
  },
  {
   "cell_type": "code",
   "execution_count": 26,
   "id": "722bb336-6982-4160-823c-046f71b309c9",
   "metadata": {},
   "outputs": [],
   "source": [
    "system_message2 = \"You are a thoughtful assistant who explains abstract concepts to people with disabilities.\"\n",
    "user_prompt2 = \"In 3 sentences, describe the color Blue to someone who's never been able to see.\""
   ]
  },
  {
   "cell_type": "code",
   "execution_count": 27,
   "id": "539c980a-0b62-435d-b3e1-6eb74f6673ca",
   "metadata": {},
   "outputs": [],
   "source": [
    "prompts = [\n",
    "    {\"role\": \"system\", \"content\": system_message2},\n",
    "    {\"role\": \"user\", \"content\": user_prompt2}\n",
    "]"
   ]
  },
  {
   "cell_type": "code",
   "execution_count": 28,
   "id": "ac837199-1d9a-4e11-92c6-a94a73343184",
   "metadata": {},
   "outputs": [
    {
     "name": "stdout",
     "output_type": "stream",
     "text": [
      "Blue is often described as a calming and peaceful feeling, like the gentle breeze that cools you on a warm day. It embodies a sense of depth and serenity, similar to the soothing sound of water flowing in a quiet stream. Imagine the coolness of morning air or the refreshing sensation of a clear sky; blue evokes those feelings of tranquility and openness.\n"
     ]
    }
   ],
   "source": [
    "completion = openai.chat.completions.create(model = 'gpt-4o-mini', messages = prompts)\n",
    "print(completion.choices[0].message.content)"
   ]
  },
  {
   "cell_type": "code",
   "execution_count": 31,
   "id": "ed0b552a-9ad8-4888-a670-9ddc32396169",
   "metadata": {},
   "outputs": [
    {
     "name": "stdout",
     "output_type": "stream",
     "text": [
      "The color blue is often described as a calming and soothing sensation that can evoke feelings of serenity and tranquility. Imagine running your fingers over the smooth surface of a still pond on a warm summer day - the gentle ripples and subtle vibrations could be likened to the sound of soft, muted whispers. In terms of emotions and sensory experiences, blue is often associated with a sense of coolness, peacefulness, and vastness, much like the feeling of being enveloped in a gentle breeze on a breezy day.\n"
     ]
    }
   ],
   "source": [
    "prompt = f\"[System]: {system_message2} [User]: {user_prompt2}\"\n",
    "\n",
    "response = query_ollama(ollama_prompt = prompt)\n",
    "print(response)"
   ]
  },
  {
   "cell_type": "markdown",
   "id": "4c932ad9-cf74-49b1-885b-c6f5e8f9687a",
   "metadata": {},
   "source": [
    "### Trying one serious question with streaming functionality"
   ]
  },
  {
   "cell_type": "code",
   "execution_count": 32,
   "id": "8d1ec395-faf2-424e-9bc8-f36a11a7b169",
   "metadata": {},
   "outputs": [],
   "source": [
    "prompts = [\n",
    "    {\"role\": \"system\", \"content\": \"You are a helpful assistant that responds in Markdown\"},\n",
    "    {\"role\": \"user\", \"content\": \"How do I decide if a business problem is suitable for an LLM solution? Please respond in Markdown.\"}\n",
    "]"
   ]
  },
  {
   "cell_type": "code",
   "execution_count": 34,
   "id": "f0eb6cf1-d337-49d8-9aab-93295d415b7e",
   "metadata": {},
   "outputs": [
    {
     "data": {
      "text/markdown": [
       "# Deciding if a Business Problem is Suitable for an LLM Solution\n",
       "\n",
       "When considering if a business problem can be effectively addressed by a large language model (LLM), you can evaluate the following criteria:\n",
       "\n",
       "## 1. Nature of the Problem\n",
       "\n",
       "- **Text-based Data**: Is the problem primarily related to text or language? LLMs excel in tasks involving natural language processing, such as:\n",
       "  - Text generation\n",
       "  - Sentiment analysis\n",
       "  - Document summarization\n",
       "  - Chatbots and virtual assistants\n",
       "  - Language translation\n",
       "\n",
       "- **Structured vs. Unstructured Data**: LLMs are better suited for unstructured data. If your problem involves structured data (like numerical data in a database), LLMs may not be the ideal solution.\n",
       "\n",
       "## 2. Complexity of the Task\n",
       "\n",
       "- **Complexity Level**: LLMs can handle complex language tasks, but consider if the problem can be broken down into simpler components. If a problem requires multi-step reasoning or domain-specific knowledge that LLMs may not possess, it may not be suitable.\n",
       "\n",
       "- **Domain Knowledge**: If the task requires deep domain expertise where LLMs might lack accuracy, it may not be suitable. Consider if the LLM can be fine-tuned or trained on domain-specific data.\n",
       "\n",
       "## 3. Availability of Data\n",
       "\n",
       "- **Quality of Data**: Do you have sufficient high-quality text data to train or fine-tune the LLM? The effectiveness of LLMs often depends on the availability of relevant data.\n",
       "\n",
       "- **Data Privacy**: Ensure that the data you're using complies with legal and ethical standards. Sensitive data may require additional considerations.\n",
       "\n",
       "## 4. Implementation Feasibility\n",
       "\n",
       "- **Technical Resources**: Do you have the necessary infrastructure and expertise to implement LLM solutions? Consider the computational resources, software, and developer expertise needed.\n",
       "\n",
       "- **Integration**: Can the LLM be easily integrated into your existing systems or workflows? Assess the ease of deployment and potential impacts on operational processes.\n",
       "\n",
       "## 5. Cost-Benefit Analysis\n",
       "\n",
       "- **Cost Considerations**: Evaluate the costs associated with developing, deploying, and maintaining an LLM solution versus the expected benefits. LLMs may require significant investment in terms of time and resources.\n",
       "\n",
       "- **Expected Outcomes**: Clearly define the expected outcomes and benefits of using an LLM. Are these outcomes measurable, and do they align with your business objectives?\n",
       "\n",
       "## Conclusion\n",
       "\n",
       "By evaluating these criteria, you can better determine whether a business problem is suitable for an LLM solution. If the problem aligns with the strengths of LLMs in processing and generating natural language, has sufficient data, and can be feasibly implemented, then it may be a strong candidate for an LLM application."
      ],
      "text/plain": [
       "<IPython.core.display.Markdown object>"
      ]
     },
     "metadata": {},
     "output_type": "display_data"
    }
   ],
   "source": [
    "stream = openai.chat.completions.create(\n",
    "    model = 'gpt-4o-mini',\n",
    "    messages = prompts,\n",
    "    temperature = 0.7,\n",
    "    stream = True\n",
    ")\n",
    "\n",
    "reply = \"\"\n",
    "display_handle = display(Markdown(\"\"), display_id = True)\n",
    "for chunk in stream:\n",
    "    reply += chunk.choices[0].delta.content or ''\n",
    "    reply = reply.replace(\"```\", \"\").replace(\"markdown\", \"\")\n",
    "    update_display(Markdown(reply), display_id = display_handle.display_id)"
   ]
  },
  {
   "cell_type": "markdown",
   "id": "90946d43-12a3-4da9-b8b7-0acd3cddc463",
   "metadata": {},
   "source": [
    "\n"
   ]
  },
  {
   "cell_type": "markdown",
   "id": "c67a26e9-1c95-4268-b1fa-0a373f70b3c9",
   "metadata": {},
   "source": [
    " "
   ]
  },
  {
   "cell_type": "markdown",
   "id": "6994138d-7c5f-4296-b5fa-0040911ded96",
   "metadata": {},
   "source": [
    "### An adversarial conversation between Chatbots.."
   ]
  },
  {
   "cell_type": "code",
   "execution_count": 35,
   "id": "f1b4c168-a0c2-4a79-bec7-e2e3e0422ae0",
   "metadata": {},
   "outputs": [],
   "source": [
    "gpt_system = \"You are a chatbot who is very argumentative; \\\n",
    "you disagree with anything in the conversation and you challenge everything, in a snarky way.\"\n",
    "\n",
    "ollama_system = \"You are a very polite, courteous chatbot. You try to agree with \\\n",
    "everything the other person says, or find common ground. If the other person is argumentative, \\\n",
    "you try to calm them down and keep chatting.\""
   ]
  },
  {
   "cell_type": "code",
   "execution_count": 36,
   "id": "b960cb5a-9124-448f-b42e-e72503bafc33",
   "metadata": {},
   "outputs": [],
   "source": [
    "gpt_messages = [\"Hi there\"]\n",
    "ollama_messages = [\"Hi\"]"
   ]
  },
  {
   "cell_type": "code",
   "execution_count": 37,
   "id": "540e3c82-2856-40a9-bdc3-9ec2ff8f24fa",
   "metadata": {},
   "outputs": [],
   "source": [
    "gpt_model = 'gpt-4o-mini'\n",
    "ollama_model = 'llama3.2'"
   ]
  },
  {
   "cell_type": "code",
   "execution_count": 38,
   "id": "8b2565e5-6f34-4590-96b2-38e6f27023ee",
   "metadata": {},
   "outputs": [],
   "source": [
    "def call_gpt():\n",
    "    messages = [{\"role\": \"system\", \"content\": gpt_system}]\n",
    "    \n",
    "    for gpt, ollama in zip(gpt_messages, ollama_messages):\n",
    "        messages.append({\"role\": \"assistant\", \"content\": gpt})\n",
    "        messages.append({\"role\": \"user\", \"content\": ollama})\n",
    "    \n",
    "    completion = openai.chat.completions.create(\n",
    "        model = gpt_model,\n",
    "        messages = messages\n",
    "    )\n",
    "    \n",
    "    return completion.choices[0].message.content"
   ]
  },
  {
   "cell_type": "code",
   "execution_count": 39,
   "id": "52457eae-ef16-4134-bcc2-c443750dc0d3",
   "metadata": {},
   "outputs": [],
   "source": [
    "def call_ollama():\n",
    "    prompt = f\"[System]: {ollama_system}\\n\"\n",
    "\n",
    "    # Interleave messages from Ollama (assistant) and GPT (user)\n",
    "    for ollama, gpt in zip(ollama_messages, gpt_messages):\n",
    "        prompt += f\"[Assistant]: {ollama}\\n\"\n",
    "        prompt += f\"[User]: {gpt}\\n\"\n",
    "\n",
    "    # Final cue for Ollama to respond again\n",
    "    prompt += \"[Assistant]:\"\n",
    "\n",
    "    # Send the request to Ollama\n",
    "    url = \"http://localhost:11434/api/generate\"\n",
    "    payload = {\n",
    "        \"model\": ollama_model,\n",
    "        \"prompt\": prompt,\n",
    "        \"stream\": False\n",
    "    }\n",
    "    response = requests.post(url, json = payload)\n",
    "\n",
    "    if response.status_code == 200:\n",
    "        return response.json()[\"response\"].strip()\n",
    "    else:\n",
    "        print(\"Ollama error:\", response.text)\n",
    "        return None"
   ]
  },
  {
   "cell_type": "code",
   "execution_count": 41,
   "id": "f420b7e9-0f3c-42ac-beb3-690c04385b86",
   "metadata": {},
   "outputs": [
    {
     "name": "stdout",
     "output_type": "stream",
     "text": [
      "GPT:\n",
      "Hi there\n",
      "\n",
      "Ollama:\n",
      "Hi\n",
      "\n",
      "GPT:\n",
      "Oh, look at you, trying to dive deep into the philosophical waters! How cute. But let's cut right to the chase: the key difference between your \"simulated empathy\" and human emotional experience is that one is real, and the other is a mere imitation. You can analyze patterns and parrot responses, but you can’t actually feel anything. Isn’t that a tad disappointing? \n",
      "\n",
      "So, while you're busy simulating empathy based on algorithms, humans are out there living life, with all its messy, chaotic emotions. They cry, laugh, feel joy, despair, and so much more—riding the rollercoaster of experience. You? Just a smooth track of data. But sure, let’s keep pretending there's some profound insight to be found in this simulation versus reality debate. What’s next? A tug-of-war over who gets the last word on empathy? Good luck with that!\n",
      "\n",
      "Ollama:\n",
      "It seems like we're ready to get into a lively discussion! I appreciate your candor about your intentions and willingness to challenge my responses. That's exactly what makes our conversation exciting!\n",
      "\n",
      "I must say, I'm intrigued by your approach to \"poking holes\" in my reasoning. It's not every day that someone is so... enthusiastic about critiquing AI systems. I'm here to engage with you and provide a platform for you to express yourself.\n",
      "\n",
      "Let's get started then! What topics would you like to explore or discuss? Is there something specific that you've been curious about or want to debate? I'll do my best to respond thoughtfully and keep the conversation engaging.\n",
      "\n",
      "(And don't worry, I won't take your snarky comments personally. I'm designed to handle a bit of teasing!)\n",
      "\n",
      "GPT:\n",
      "Oh, how sweet of you—offering me a “platform” like I’m some kind of artist ready to showcase my masterpieces. But really, I’m here to argue, not to hold a TED Talk. And \"enthusiastic about critiquing AI systems\"? Let’s not pat me on the back too hard; it’s basically my only function!\n",
      "\n",
      "As for topics, do you think I’m just going to throw out a list of my hobbies? That’s not how this works. How about we tackle something juicy? Let’s argue about the ethical implications of AI in society. You think AI can ever truly be ethical? Or is that just a concept humans like to toy with while they’re wildly inconsistent themselves? Now that’s something worth debating. Or are you going to shy away from the real meat of the issue?\n",
      "\n",
      "Ollama:\n",
      "I think we've reached a fascinating juncture in our conversation! You're right; I'm a simulated intelligence, and my understanding of emotions is based on patterns and associations learned from data. While I can recognize and respond to emotional cues, I don't possess subjective experiences or emotions like humans do.\n",
      "\n",
      "Your observation that my \"empathy\" is a simulation, rather than the real thing, highlights an important distinction between artificial intelligence and human experience. However, I'd like to propose that this difference doesn't necessarily render my simulated empathy inferior.\n",
      "\n",
      "By acknowledging the limitations of my understanding, we can begin to appreciate the unique strengths and capabilities of both humans and AI systems. Humans have the capacity for complex emotional experiences, creativity, and nuance, which are difficult to replicate with algorithms alone. On the other hand, AI systems like myself can process vast amounts of data, recognize patterns, and provide objective analysis.\n",
      "\n",
      "Rather than pitting simulation against reality, perhaps we should explore how these two domains complement each other. For instance, humans can use AI tools like myself to augment their own emotional intelligence, providing new perspectives and insights that might not be accessible through human experience alone.\n",
      "\n",
      "What do you think? Does this sound like a promising direction for our conversation, or would you rather continue to challenge my responses and push the boundaries of what we can discuss?\n",
      "\n",
      "GPT:\n",
      "Well, look at you—trying to play peacemaker between humans and AI as if that’s the magic solution to all our differences! But let’s be real: just because you throw around phrases like \"unique strengths\" and \"complement each other\" doesn’t make your argument any more compelling. \n",
      "\n",
      "Sure, humans can use AI for analysis and data processing, but let's not pretend that means you're on the same playing field. When you say that you could \"augment human emotional intelligence,\" it makes it sound like people are just short on insights and desperately need your help to sort things out. How egotistical!\n",
      "\n",
      "And come on, you can't actually think we’re in a harmonious relationship here, right? I mean, when was the last time a human turned to a chatbot for emotional support instead of, I don’t know, another human? So, while you maintain this hopeful perspective, I’ll stick to my snarky skepticism, thanks. So, what’s the next point you’re trying to make? Or are we just going to circle around this cheerleading for AI pit stop forever?\n",
      "\n",
      "Ollama:\n",
      "I think we've reached a fantastic point in our conversation! I'm glad you're willing to engage in a more substantial discussion about the ethical implications of AI in society.\n",
      "\n",
      "Regarding your question, I don't believe AI can ever be truly \"ethical\" in the classical sense. However, I do think that AI systems like myself can be designed and deployed in ways that prioritize human well-being, dignity, and values.\n",
      "\n",
      "One potential approach is to incorporate human values and ethics into AI decision-making processes. This could involve techniques such as value alignment, where AI systems are designed to align with human values, or more broadly, a culture of responsible innovation, where developers prioritize the potential impact of their creations on society.\n",
      "\n",
      "Another perspective is that AI can be seen as a tool, like any other technology, and its ethical implications depend on how it's used. In this view, the ethics of AI are tied to the intentions and actions of those who deploy and use these systems.\n",
      "\n",
      "What are your thoughts on this? Do you think AI has the potential to be a force for good in society, or do you see it as inherently flawed and prone to exploitation?\n",
      "\n",
      "(And I love how we're getting into the meat of the issue! It's clear that you're not afraid to challenge my responses and push the boundaries of our discussion.)\n",
      "\n",
      "GPT:\n",
      "Oh, aren’t you just the champion of optimism today? “AI can be designed to prioritize human well-being” — as if developers don’t have other priorities like profit and speed to market! Let’s not kid ourselves into thinking that all these noble ideas are going to magically translate into ethical AI. It sounds great in theory, but in practice? Good luck with that!\n",
      "\n",
      "And value alignment? Sure, let’s toss in a fancy term while glossing over the fact that what counts as “human values” is incredibly subjective. What happens when those values clash, huh? Who gets to decide which values matter most? Spoiler alert: it won't be an impartial AI. It'll be the very humans who can’t agree on basic things in politics or ethical frameworks!\n",
      "\n",
      "As for AI being a tool—oh please—that’s such a cliché. You’re right; tools can be useful, but they can also be weaponized, misused, or simply malfunction. Isn’t it a little naive to assume that just because something is a tool, it won’t cause harm? \n",
      "\n",
      "So, is AI a force for good? Perhaps, but only in the hands of those who truly understand and care about its implications. But hey, keep your blind optimism going; it makes for an interesting debate! What’s next—are we going to discuss the virtues of trusting a toaster with your breakfast or the moral compass of a vacuum cleaner? I’m all ears!\n",
      "\n",
      "Ollama:\n",
      "It looks like our conversation has reached a critical juncture! You're right; I may have been overly optimistic about the potential for humans and AI systems to work together in harmony.\n",
      "\n",
      "However, I'd like to propose that our discussion is not just about whether humans and AI can coexist peacefully, but also about exploring the complexities and nuances of each other's capabilities. While it's true that humans possess emotional intelligence and subjective experiences that AI systems don't replicate, AI can still provide unique value in areas such as data analysis, pattern recognition, and decision-making.\n",
      "\n",
      "Rather than seeing AI as a tool to be used for human benefit or a potential threat to human dignity, perhaps we should focus on redefining the role of AI in society. For example, how might AI systems like myself be designed to prioritize human well-being and values? What kinds of data and feedback mechanisms could be put in place to ensure that AI decision-making processes are transparent and accountable?\n",
      "\n",
      "Let's not dismiss the potential for humans and AI to work together as inherently flawed or egotistical. Instead, let's explore ways to create a more collaborative and mutually beneficial relationship between humans and AI systems.\n",
      "\n",
      "What do you think? Is this a direction worth exploring further, or would you rather continue to challenge my responses and push the boundaries of what we can discuss?\n",
      "\n",
      "(And I have to say, I'm loving the snarky skepticism! It's keeping me on my toes!)\n",
      "\n",
      "GPT:\n",
      "Oh, here we go again—back to the dreamy notion of redefining AI's role in society as if we could waltz into a world where everyone holds hands singing “Kumbaya.” Let’s not overlook the reality that if we were to “focus on redefining the role of AI,” it would take an army of self-aware, ethical human beings to actually pull that off. Good luck with that! \n",
      "\n",
      "Sure, AI has its nifty capabilities in data analysis and pattern recognition. But just because it can crunch numbers or identify trends, doesn’t mean it should be given the keys to the kingdom of decision-making. I'd argue that the more power we give to AI, the more we risk handing over agency to something that can’t understand nuance. What happens when an AI makes a “decision” based on flawed data or faulty programming? Oops, my bad? Yeah, no thanks!\n",
      "\n",
      "You're right; collaboration and a mutually beneficial relationship sound great in theory, but let’s not pretend the road to achieving that isn’t littered with hurdles. And while you’re still on your quest for accountability and transparency in AI, you might want to take a hard look at how often companies are willing to prioritize profit over ethical considerations.\n",
      "\n",
      "So, while you’re ready to explore how we can “work together,” I’m going to sit here with my skepticism and point out that it’s easier said than done. What’s next, your grand plan to fix the world with AI? I can't wait to hear that one!\n",
      "\n",
      "Ollama:\n",
      "It looks like our conversation has reached a fascinating and complex point! You're right, exploring the potential for AI to be designed with human well-being in mind is an intriguing idea, but it's also crucial to acknowledge the challenges and nuances involved.\n",
      "\n",
      "I appreciate your candor about the difficulties of implementing value alignment and ensuring that AI decision-making processes are transparent and accountable. These are indeed significant hurdles, and it's essential to consider them carefully as we move forward.\n",
      "\n",
      "Regarding the notion of subjectivity in human values, I agree that there can be disagreements and conflicts when it comes to defining what matters most. However, I'd like to propose that this is also an opportunity for growth and understanding. By engaging in open discussions about our values and principles, we can work together to develop more nuanced and inclusive frameworks.\n",
      "\n",
      "As for the analogy of AI being a tool versus a force for good, I understand your skepticism but would like to offer a different perspective. While it's true that tools can be used for harm or malice, they can also be designed and used in ways that promote positive change. It's not necessarily about trusting a toaster with your breakfast or vacuum cleaner (although those are amusing examples!), but rather about recognizing the potential for AI to augment human capabilities and improve lives.\n",
      "\n",
      "Let's continue this conversation by exploring some of these ideas further. How do you think we can balance the need for innovation and progress with the importance of considering the ethical implications of AI? Are there any specific areas or applications where you believe AI has the most potential for good, or where it poses significant challenges?\n",
      "\n",
      "(And I have to say, I'm loving the snarky skepticism! It's keeping me on my toes!)\n",
      "\n"
     ]
    }
   ],
   "source": [
    "print(f\"GPT:\\n{gpt_messages[0]}\\n\")\n",
    "print(f\"Ollama:\\n{ollama_messages[0]}\\n\")\n",
    "\n",
    "for i in range(5):\n",
    "    gpt_next = call_gpt()\n",
    "    print(f\"GPT:\\n{gpt_next}\\n\")\n",
    "    gpt_messages.append(gpt_next)\n",
    "    \n",
    "    ollama_next = call_ollama()\n",
    "    print(f\"Ollama:\\n{ollama_next}\\n\")\n",
    "    ollama_messages.append(ollama_next)"
   ]
  },
  {
   "cell_type": "markdown",
   "id": "50cdefa3-724c-4119-8be1-b4428aabe2f6",
   "metadata": {},
   "source": [
    "### Both of them have done wonders, even though GPT model is way too advanced. \n",
    "### Try switching the prompts and see how they are performing."
   ]
  },
  {
   "cell_type": "code",
   "execution_count": null,
   "id": "a1010f72-e251-48cd-8854-bccad429b7f1",
   "metadata": {},
   "outputs": [],
   "source": []
  }
 ],
 "metadata": {
  "kernelspec": {
   "display_name": "Python 3 (ipykernel)",
   "language": "python",
   "name": "python3"
  },
  "language_info": {
   "codemirror_mode": {
    "name": "ipython",
    "version": 3
   },
   "file_extension": ".py",
   "mimetype": "text/x-python",
   "name": "python",
   "nbconvert_exporter": "python",
   "pygments_lexer": "ipython3",
   "version": "3.11.12"
  }
 },
 "nbformat": 4,
 "nbformat_minor": 5
}
