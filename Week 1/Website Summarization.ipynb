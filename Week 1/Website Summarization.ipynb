{
 "cells": [
  {
   "cell_type": "markdown",
   "id": "293cbef2-edfd-4a18-8fd3-ef02cfbb1278",
   "metadata": {},
   "source": [
    "## Instant Gratification project --> Website Text Summarization"
   ]
  },
  {
   "cell_type": "markdown",
   "id": "c0a143b8-aad8-4fd3-a282-437c15f5a525",
   "metadata": {},
   "source": [
    "Check if our Ollama server is running at: [http://localhost:11434/](http://localhost:11434/)\n",
    "\n",
    "You should see the message `Ollama is running`.  "
   ]
  },
  {
   "cell_type": "code",
   "execution_count": 2,
   "id": "2c8b15ca-64ec-471d-90d7-7396459943b6",
   "metadata": {},
   "outputs": [],
   "source": [
    "# Importing essential libraries\n",
    "\n",
    "import requests\n",
    "from bs4 import BeautifulSoup\n",
    "from IPython.display import Markdown, display\n",
    "import ollama"
   ]
  },
  {
   "cell_type": "code",
   "execution_count": 4,
   "id": "3944d7dc-da91-47e5-88ea-f559c3de0489",
   "metadata": {},
   "outputs": [],
   "source": [
    "# Constants\n",
    "\n",
    "#OLLAMA_API = \"http://localhost:11434/api/chat\" # The base URL for the Ollama server running locally\n",
    "#HEADERS = {\"Content-Type\": \"application/json\"} # Tells the server that you're sending JSON-formatted data\n",
    "MODEL = \"llama3.2\""
   ]
  },
  {
   "cell_type": "code",
   "execution_count": 6,
   "id": "c31044c4-a44c-409b-9670-7449182135ad",
   "metadata": {},
   "outputs": [],
   "source": [
    "class Website:\n",
    "    \"\"\" A utility class to represent the website that we have scrapped \"\"\"\n",
    "    url: str\n",
    "    title: str\n",
    "    text: str\n",
    "\n",
    "    def __init__(self, url):\n",
    "        \"\"\"  Create this Website object from the given url using the BeautifulSoup library \"\"\"\n",
    "        self.url = url\n",
    "        response = requests.get(url) # fetch the raw HTML content of the page\n",
    "        soup = BeautifulSoup(response.content, \"html.parser\")\n",
    "        self.title = soup.title.string if soup.title else \"No title found!\"\n",
    "\n",
    "        # This loop removes unwanted tags from the page\n",
    "        for irrelevant in soup.body([\"script\", \"style\", \"img\", \"input\"]):\n",
    "            irrelevant.decompose\n",
    "\n",
    "        # This would collect all visible text from the cleaned HTML tree and assign it to self.text\n",
    "        self.text = soup.body.get_text(separator = \"\\n\", strip = True)"
   ]
  },
  {
   "cell_type": "code",
   "execution_count": 9,
   "id": "a898f8be-1709-4f92-8954-c62471a4932d",
   "metadata": {},
   "outputs": [
    {
     "name": "stdout",
     "output_type": "stream",
     "text": [
      "Home - Edward Donner\n",
      "Home\n",
      "Connect Four\n",
      "Outsmart\n",
      "An arena that pits LLMs against each other in a battle of diplomacy and deviousness\n",
      "About\n",
      "Posts\n",
      "Well, hi there.\n",
      "I’m Ed. I like writing code and experimenting with LLMs, and hopefully you’re here because you do too. I also enjoy DJing (but I’m badly out of practice), amateur electronic music production (\n",
      "very\n",
      "amateur) and losing myself in\n",
      "Hacker News\n",
      ", nodding my head sagely to things I only half understand.\n",
      "I’m the co-founder and CTO of\n",
      "Nebula.io\n",
      ". We’re applying AI to a field where it can make a massive, positive impact: helping people discover their potential and pursue their reason for being. Recruiters use our product today to source, understand, engage and manage talent. I’m previously the founder and CEO of AI startup untapt,\n",
      "acquired in 2021\n",
      ".\n",
      "We work with groundbreaking, proprietary LLMs verticalized for talent, we’ve\n",
      "patented\n",
      "our matching model, and our award-winning platform has happy customers and tons of press coverage.\n",
      "Connect\n",
      "with me for more!\n",
      "May 18, 2025\n",
      "2025 AI Executive Briefing\n",
      "April 21, 2025\n",
      "The Complete Agentic AI Engineering Course\n",
      "January 23, 2025\n",
      "LLM Workshop – Hands-on with Agents – resources\n",
      "December 21, 2024\n",
      "Welcome, SuperDataScientists!\n",
      "Navigation\n",
      "Home\n",
      "Connect Four\n",
      "Outsmart\n",
      "An arena that pits LLMs against each other in a battle of diplomacy and deviousness\n",
      "About\n",
      "Posts\n",
      "Get in touch\n",
      "ed [at] edwarddonner [dot] com\n",
      "www.edwarddonner.com\n",
      "Follow me\n",
      "LinkedIn\n",
      "Twitter\n",
      "Facebook\n",
      "Subscribe to newsletter\n",
      "Type your email…\n",
      "Subscribe\n"
     ]
    }
   ],
   "source": [
    "# Lets test this out\n",
    "hg = Website(\"https://edwarddonner.com/\")\n",
    "print(hg.title)\n",
    "print(hg.text)"
   ]
  },
  {
   "cell_type": "markdown",
   "id": "865c24ea-c304-41f2-9899-c00af15ed234",
   "metadata": {},
   "source": [
    "## Types of prompts\n",
    "\n",
    "Models like GPT4o have been trained to receive instructions in a particular way.\n",
    "\n",
    "They expect to receive:\n",
    "\n",
    "**A system prompt** that tells them what task they are performing and what tone they should use\n",
    "\n",
    "**A user prompt** -- the conversation starter that they should reply to"
   ]
  },
  {
   "cell_type": "code",
   "execution_count": 11,
   "id": "922b8629-7dc6-4330-acdf-fa9e2276f616",
   "metadata": {},
   "outputs": [],
   "source": [
    "# Defining our system prompt\n",
    "\n",
    "system_prompt = \"You are an assistant that analyzes the contents of a website \\\n",
    "and provides a short summary, ignoring text that might be navigation related. \\\n",
    "Respond in markdown.\""
   ]
  },
  {
   "cell_type": "code",
   "execution_count": 12,
   "id": "78dc5b6b-13ce-40c8-90f1-be4806c7a0a5",
   "metadata": {},
   "outputs": [],
   "source": [
    "# A function that writes a User Prompt that asks for summaries of websites\n",
    "\n",
    "def user_prompt(website):\n",
    "    user_prompt = f\"You are looking at a website titled {website.title}\"\n",
    "    user_prompt += \"The contents of this website is as follows; \\\n",
    "    please provide a short summary of this website in markdown. \\\n",
    "If it includes news or announcements, then summarize these too.\\n\\n\"\n",
    "    \n",
    "    user_prompt += website.text\n",
    "    return user_prompt"
   ]
  },
  {
   "cell_type": "markdown",
   "id": "4041f194-47cc-48a5-b2f6-bd2dc7b529a8",
   "metadata": {},
   "source": [
    "## Messages\n",
    "\n",
    "The API from Ollama expects the same message format as OpenAI:\n",
    "\n",
    "```\n",
    "[\n",
    "    {\"role\": \"system\", \"content\": \"system message goes here\"},\n",
    "    {\"role\": \"user\", \"content\": \"user message goes here\"}\n",
    "]"
   ]
  },
  {
   "cell_type": "code",
   "execution_count": 14,
   "id": "baab75b1-301f-49bb-a49b-1acfb3d9f0e6",
   "metadata": {},
   "outputs": [],
   "source": [
    "# See how this function creates exactly the format above\n",
    "\n",
    "def messages_for(website):\n",
    "    return [\n",
    "        {\"role\": \"system\", \"content\": system_prompt},\n",
    "        {\"role\": \"user\", \"content\": user_prompt(website)}\n",
    "    ]"
   ]
  },
  {
   "cell_type": "markdown",
   "id": "4c6eace2-7eb2-42d5-a73c-7bb6e42b52c7",
   "metadata": {},
   "source": [
    "## Time to bring it together with Ollama"
   ]
  },
  {
   "cell_type": "code",
   "execution_count": 15,
   "id": "d6173fb3-0c27-4651-871e-f5c0af77fb87",
   "metadata": {},
   "outputs": [],
   "source": [
    "def summarize(url):\n",
    "    website = Website(url)\n",
    "    messages = messages_for(website)\n",
    "    response = ollama.chat(model = MODEL, messages = messages)\n",
    "    return response['message']['content']"
   ]
  },
  {
   "cell_type": "code",
   "execution_count": 16,
   "id": "30189b7e-5351-4dc3-a9cf-cc324499c0c2",
   "metadata": {},
   "outputs": [],
   "source": [
    "# A function to display this nicely in the Jupyter output, using markdown\n",
    "\n",
    "def display_summary(url):\n",
    "    summary = summarize(url)\n",
    "    display(Markdown(summary))"
   ]
  },
  {
   "cell_type": "code",
   "execution_count": 17,
   "id": "04e3bbf6-ac91-4909-912a-89da26595c3b",
   "metadata": {},
   "outputs": [
    {
     "data": {
      "text/markdown": [
       "**Summary of the Website**\n",
       "====================================\n",
       "\n",
       "The website is a news portal from CNN, providing up-to-date information on various topics such as:\n",
       "\n",
       "* **News**: Breaking news headlines, including stories on Ukraine-Russia War, Israel-Hamas War, and more.\n",
       "* **Politics**: Analysis and updates on US Politics, European politics, and international relations.\n",
       "* **Business**: News and insights on markets, economy, and business trends.\n",
       "* **Health**: Updates on various health topics, including wellness, fitness, and disease prevention.\n",
       "* **Science**: Breaking news on scientific discoveries, breakthroughs, and space exploration.\n",
       "* **Entertainment**: Latest news on movies, television shows, music, and celebrity gossip.\n",
       "\n",
       "**Featured Stories**\n",
       "-------------------\n",
       "\n",
       "* Ukraine-Russia War: Reports of renewed air attacks in Kyiv, with at least 13 people killed in drone and ballistic missile strikes.\n",
       "* US Politics: Trump announces 'partnership' between US Steel and Nippon Steel, amid controversy over his presidency.\n",
       "* Climate Change: A fungi that can 'eat you from the inside out' could spread as the world heats up, according to a recent study.\n",
       "\n",
       "**Other Notable Stories**\n",
       "-------------------------\n",
       "\n",
       "* SpaceX cleared to launch Starship test flight after two explosive failures.\n",
       "* US Supreme Court pauses attempt by lower court to force DOGE to provide records.\n",
       "* Flat shoes allowed at Cannes Film Festival for the first time."
      ],
      "text/plain": [
       "<IPython.core.display.Markdown object>"
      ]
     },
     "metadata": {},
     "output_type": "display_data"
    }
   ],
   "source": [
    "display_summary(\"https://cnn.com\")"
   ]
  },
  {
   "cell_type": "markdown",
   "id": "e3f43335-038a-436a-80fd-512e742e38d2",
   "metadata": {},
   "source": [
    "We have successfully scrapped the website and displayed it properly using Markdown styles."
   ]
  },
  {
   "cell_type": "markdown",
   "id": "12fb243f-3dd2-4d6c-907b-06447b59e6be",
   "metadata": {},
   "source": [
    "## Points to note"
   ]
  },
  {
   "cell_type": "markdown",
   "id": "de48385d-4149-476e-9b3a-fabc43aeca37",
   "metadata": {},
   "source": [
    "Note that this will only work on websites that can be scraped using this simplistic approach.\n",
    "\n",
    "Websites that are rendered with Javascript, like React apps, won't show up. See the community-contributions folder for a Selenium implementation that gets around this. You'll need to read up on installing Selenium (ask ChatGPT!)\n",
    "\n",
    "Also Websites protected with CloudFront (and similar) may give 403 errors!"
   ]
  },
  {
   "cell_type": "code",
   "execution_count": null,
   "id": "449b7437-c145-460a-a8f4-6e2cdab47720",
   "metadata": {},
   "outputs": [],
   "source": []
  }
 ],
 "metadata": {
  "kernelspec": {
   "display_name": "Python 3 (ipykernel)",
   "language": "python",
   "name": "python3"
  },
  "language_info": {
   "codemirror_mode": {
    "name": "ipython",
    "version": 3
   },
   "file_extension": ".py",
   "mimetype": "text/x-python",
   "name": "python",
   "nbconvert_exporter": "python",
   "pygments_lexer": "ipython3",
   "version": "3.11.12"
  }
 },
 "nbformat": 4,
 "nbformat_minor": 5
}
