{
 "cells": [
  {
   "cell_type": "markdown",
   "id": "3ea80a70-ce02-438f-adf7-46e5865b9949",
   "metadata": {},
   "source": [
    "# GitHub Portfolio Summarizer"
   ]
  },
  {
   "cell_type": "markdown",
   "id": "547ac0c2-f7d8-48be-b5dc-ebfdc9c9fd7c",
   "metadata": {},
   "source": [
    "Creating a product that summarizes <b>GitHub</b> profiles for potential recruiters to quickly assess a candidate’s technical expertise, interests, and contributions."
   ]
  },
  {
   "cell_type": "markdown",
   "id": "21cf2057-dd9c-4637-84e0-80b541097157",
   "metadata": {},
   "source": [
    "## How to Run This GitHub Profile Summarizer\n",
    "\n",
    "### 1. Install Required Libraries -- <i>openai beautifulsoup4 requests</i>\n",
    "### 2. Set Your OpenAI API Key in a <i>.env</i> file\n",
    "### 3. Run All Cells (Top to Bottom)\n",
    "### 4. Run <i>stream_portfolio(your name, your github link) with your real name and GitHub \n",
    "### 5. You’ll see a live-streamed Markdown portfolio of the GitHub user"
   ]
  },
  {
   "cell_type": "code",
   "execution_count": 1,
   "id": "e16ed328-3785-4e96-bde5-30c4b142e3f6",
   "metadata": {},
   "outputs": [],
   "source": [
    "# Importing all the required dependancies\n",
    "\n",
    "import os\n",
    "import requests\n",
    "import json\n",
    "from dotenv import load_dotenv\n",
    "from bs4 import BeautifulSoup\n",
    "from IPython.display import Markdown, display, update_display\n",
    "from openai import OpenAI"
   ]
  },
  {
   "cell_type": "code",
   "execution_count": 2,
   "id": "0cefa840-e6ad-47b9-b740-b0d098190e2c",
   "metadata": {},
   "outputs": [
    {
     "name": "stdout",
     "output_type": "stream",
     "text": [
      "API key found!\n"
     ]
    }
   ],
   "source": [
    "# Initializing and declaring constants\n",
    "\n",
    "load_dotenv()\n",
    "api_key = os.getenv('OPENAI_API_KEY')\n",
    "\n",
    "if api_key and api_key.startswith('sk-proj-') and len(api_key)>10:\n",
    "    print(\"API key found!\")\n",
    "else:\n",
    "    print(\"There might be a problem with your API key! Please recheck it and try again.\")\n",
    "\n",
    "MODEL = \"gpt-4o-mini\"\n",
    "openai = OpenAI(api_key = api_key)"
   ]
  },
  {
   "cell_type": "markdown",
   "id": "1e600916-134e-4017-8f7b-8baa04a9a139",
   "metadata": {},
   "source": [
    "### A class to represent a GitHub profile"
   ]
  },
  {
   "cell_type": "code",
   "execution_count": 3,
   "id": "c043d4b3-6a9d-46c2-9c4b-3f0dd1a95f15",
   "metadata": {},
   "outputs": [],
   "source": [
    "# Some websites need you to use proper headers when fetching them\n",
    "\n",
    "headers = {\n",
    " \"User-Agent\": \"Mozilla/5.0 (Windows NT 10.0; Win64; x64) AppleWebKit/537.36 (KHTML, like Gecko) Chrome/117.0.0.0 Safari/537.36\"\n",
    "}"
   ]
  },
  {
   "cell_type": "code",
   "execution_count": 4,
   "id": "eae9ec70-de52-4014-aea1-b86f419aeb44",
   "metadata": {},
   "outputs": [],
   "source": [
    "class GithubProfile:\n",
    "    \"\"\"\n",
    "    This class scrapes a GitHub profile page, extracts the visible text and links, removes clutter, and makes the content easy to pass into something like the OpenAI API for summarization.\n",
    "    \"\"\"\n",
    "    \n",
    "    def __init__(self, url):\n",
    "        self.url = url\n",
    "        response = requests.get(url, headers = headers)\n",
    "        self.body = response.content\n",
    "        soup = BeautifulSoup(self.body, 'html.parser')\n",
    "        self.title = soup.title.string if soup.title else \"No title found\"\n",
    "\n",
    "        if soup.body:\n",
    "            for irrelevant in soup.body([\"script\", \"style\", \"img\", \"input\"]):\n",
    "                irrelevant.decompose()\n",
    "            self.text = soup.body.get_text(separator = \"\\n\", strip = True)\n",
    "        else:\n",
    "            self.text = \"\"\n",
    "        links = [link.get(\"href\") for link in soup.find_all(\"a\")]\n",
    "        self.links = [link for link in links if link]\n",
    "\n",
    "    def get_contents(self):\n",
    "        return f\"Webpage Title:\\n{self.title}\\nWebpage Contents:\\n{self.text}\\n\\n\"        "
   ]
  },
  {
   "cell_type": "markdown",
   "id": "89879bd0-a105-4f69-97e6-bd6bb6bebb08",
   "metadata": {},
   "source": [
    "### Use a call to gpt-4o-mini to read the links on the GitHub, and respond in structured JSON. \n",
    "We will use \"one shot prompting\" in which we provide an example of how it should respond in the prompt."
   ]
  },
  {
   "cell_type": "code",
   "execution_count": 5,
   "id": "99b76a17-b318-4cee-aa75-faa6f676c6b5",
   "metadata": {},
   "outputs": [],
   "source": [
    "link_system_prompt = \"You are provided with a list of links found on a Github page. \\\n",
    "You are able to decide which of the links would be most relevant to include in a portfolio about the github user, \\\n",
    "such as links to an About page, or a Repositories, or Projects.\\n\"\n",
    "\n",
    "link_system_prompt += \"You should respond in JSON as in this example:\"\n",
    "\n",
    "link_system_prompt += \"\"\"\n",
    "{\n",
    "    \"links\": [\n",
    "        {\"type\": \"overview page\", \"url\": \"https://another.full.url\"},\n",
    "        {\"type\": \"repositories page\": \"url\": \"https://another.full.url?tab=repositories\"}\n",
    "    ]\n",
    "}\n",
    "\"\"\""
   ]
  },
  {
   "cell_type": "code",
   "execution_count": 6,
   "id": "09a00126-d746-48d4-8b5b-62a1707c3a08",
   "metadata": {},
   "outputs": [
    {
     "name": "stdout",
     "output_type": "stream",
     "text": [
      "You are provided with a list of links found on a Github page. You are able to decide which of the links would be most relevant to include in a portfolio about the github user, such as links to an About page, or a Repositories, or Projects.\n",
      "You should respond in JSON as in this example:\n",
      "{\n",
      "    \"links\": [\n",
      "        {\"type\": \"overview page\", \"url\": \"https://another.full.url\"},\n",
      "        {\"type\": \"repositories page\": \"url\": \"https://another.full.url?tab=repositories\"}\n",
      "    ]\n",
      "}\n",
      "\n"
     ]
    }
   ],
   "source": [
    "print(link_system_prompt)"
   ]
  },
  {
   "cell_type": "code",
   "execution_count": 7,
   "id": "80d104e8-ee49-4316-920c-b25ffeef8461",
   "metadata": {},
   "outputs": [],
   "source": [
    "def get_links_user_prompt(profile):\n",
    "    user_prompt = f\"Here is the list of links on the website of {profile.url} - \"\n",
    "    user_prompt += \"please decide which of these are relevant web links for a portfolio about the user, respond with the full https URL in JSON format. \\\n",
    "Do not include Terms of Service, Privacy, Login, Instagram, Stars, Following, Followers, LinkedIn, Packages, Blog or Github trending related pages.\\n\"\n",
    "    user_prompt += \"Links (some might be relative links):\\n\"\n",
    "    user_prompt += \"\\n\".join(profile.links)\n",
    "    \n",
    "    return user_prompt"
   ]
  },
  {
   "cell_type": "code",
   "execution_count": 8,
   "id": "72728f13-928c-40ff-bc70-afe79f035188",
   "metadata": {},
   "outputs": [],
   "source": [
    "def get_links(url):\n",
    "    profile = GithubProfile(url)\n",
    "    response = openai.chat.completions.create(\n",
    "        model = MODEL,\n",
    "        messages = [\n",
    "            {\"role\": \"system\", \"content\": link_system_prompt},\n",
    "            {\"role\": \"user\", \"content\": get_links_user_prompt(profile)}\n",
    "        ], \n",
    "        response_format = {\"type\": \"json_object\"}\n",
    "    )\n",
    "\n",
    "    result = response.choices[0].message.content\n",
    "    return json.loads(result)"
   ]
  },
  {
   "cell_type": "markdown",
   "id": "c2c67cb6-59c7-4a21-97f6-be44b42d76ff",
   "metadata": {},
   "source": [
    "### Making the portfolio"
   ]
  },
  {
   "cell_type": "code",
   "execution_count": 9,
   "id": "ecb16853-eae1-4d5d-9828-ac1fcabc2dca",
   "metadata": {},
   "outputs": [],
   "source": [
    "def get_all_details(url):\n",
    "    \"\"\"\n",
    "    Fetches and compiles the textual content of a GitHub user's profile page and key sub-pages.\n",
    "\n",
    "    This function:\n",
    "    1. Extracts the main content from the landing GitHub profile page.\n",
    "    2. Uses the `get_links` function to identify relevant sub-pages (e.g., Repositories, About).\n",
    "    3. Fetches and appends the content from those sub-pages.\n",
    "    4. Returns a structured string containing labeled sections of all gathered content.\n",
    "    \"\"\"\n",
    "    \n",
    "    result = \"Landing page:\\n\"\n",
    "    result += GithubProfile(url).get_contents()\n",
    "    links = get_links(url)\n",
    "    print(\"Found links:\", links)\n",
    "    \n",
    "    for link in links[\"links\"]:\n",
    "        result += f\"\\n\\n{link['type']}\\n\"\n",
    "        result += GithubProfile(link[\"url\"]).get_contents()\n",
    "    return result"
   ]
  },
  {
   "cell_type": "code",
   "execution_count": 10,
   "id": "9643d14e-011f-4b96-9e97-4f6617e48603",
   "metadata": {},
   "outputs": [],
   "source": [
    "system_prompt = \"\"\"\n",
    "You are an assistant that analyzes the contents of multiple relevant pages from a personal GitHub profile. \n",
    "Your task is to create a short, professional markdown-based portfolio summary of the user, focusing especially on:\n",
    "\n",
    "- The user's profile overview (if available)\n",
    "- Notable repositories and projects\n",
    "- Summaries of key repositories based on README files\n",
    "- Any other relevant information for recruiters or potential investors\n",
    "\n",
    "Respond in markdown format, using headings, bullet points, and clean structure.\n",
    "\n",
    "Be concise but informative. Assume the reader is a technical recruiter or investor looking to quickly understand the user's strengths and work.\n",
    "\"\"\""
   ]
  },
  {
   "cell_type": "code",
   "execution_count": 11,
   "id": "73c43e04-f948-496d-a071-212438113c65",
   "metadata": {},
   "outputs": [],
   "source": [
    "def get_portfolio_user_prompt(profile_name, url):\n",
    "    \"\"\" Builds a user-specific prompt for OpenAI to generate a GitHub portfolio. \"\"\"\n",
    "\n",
    "    user_prompt = f\"You are looking at a GitHub user called **{profile_name}**.\\n\\n\"\n",
    "    user_prompt += f\"Here are the contents of its landing page and other relevant pages; use this information to build a short portfolio of the user in markdown.\\n\"\n",
    "    user_prompt += get_all_details(url)\n",
    "    user_prompt = user_prompt[:5_000] # Truncate if more than 5,000 characters\n",
    "    \n",
    "    return user_prompt"
   ]
  },
  {
   "cell_type": "code",
   "execution_count": 16,
   "id": "0217fcd8-68e1-47bf-a5cd-625e1394acef",
   "metadata": {},
   "outputs": [],
   "source": [
    "def stream_portfolio(profile_name, url):\n",
    "    \"\"\"\n",
    "    Creates and streams a markdown-formatted portfolio summary for a GitHub user using OpenAI API\n",
    "    and displays it live in a Jupyter notebook.    \n",
    "    \"\"\"\n",
    "    stream = openai.chat.completions.create(\n",
    "        model = MODEL,\n",
    "        messages = [\n",
    "            {\"role\": \"system\", \"content\": system_prompt},\n",
    "            {\"role\": \"user\", \"content\": get_portfolio_user_prompt(profile_name, url)}\n",
    "        ], \n",
    "        stream = True\n",
    "    )\n",
    "\n",
    "    full_response = \"\"\n",
    "    display_handle = display(Markdown(\"\"), display_id = True)\n",
    "\n",
    "    for chunk in stream:\n",
    "        content = chunk.choices[0].delta.content or ''\n",
    "        full_response += content\n",
    "        clean_response = full_response.replace(\"```\", \"\").replace(\"markdown\", \"\")\n",
    "        update_display(Markdown(clean_response), display_id = display_handle.display_id)"
   ]
  },
  {
   "cell_type": "code",
   "execution_count": 17,
   "id": "c4d30001-ce81-4cb1-8f76-8c8f01633dcf",
   "metadata": {},
   "outputs": [
    {
     "name": "stdout",
     "output_type": "stream",
     "text": [
      "Found links: {'links': [{'type': 'overview page', 'url': 'https://github.com/BenGJ10'}, {'type': 'repositories page', 'url': 'https://github.com/BenGJ10?tab=repositories'}, {'type': 'projects page', 'url': 'https://github.com/BenGJ10?tab=projects'}, {'type': 'specific repository', 'url': 'https://github.com/BenGJ10/Network-Security-System'}, {'type': 'specific repository', 'url': 'https://github.com/BenGJ10/Rainfall-Prediction-Model-Deployment'}, {'type': 'specific repository', 'url': 'https://github.com/BenGJ10/Student-Performance-End-to-End-ML-Project'}, {'type': 'specific repository', 'url': 'https://github.com/BenGJ10/LockX'}, {'type': 'specific repository', 'url': 'https://github.com/BenGJ10/Machine-Learning-Bootcamp'}, {'type': 'specific repository', 'url': 'https://github.com/BenGJ10/Machine-Learning-Projects'}]}\n"
     ]
    },
    {
     "data": {
      "text/markdown": [
       "# Portfolio Summary of Ben Gregory John (BenGJ10)\n",
       "\n",
       "## Profile Overview\n",
       "- **Name:** Ben Gregory John\n",
       "- **Username:** BenGJ10\n",
       "- **Education:** Pursuing a Bachelor's degree in Computer Science Engineering\n",
       "- **Location:** Mavelikara, Kerala, India\n",
       "- **Interests:** Aspiring Data Scientist with a strong interest in MLOps\n",
       "- **LinkedIn:** [in/bengj10](https://www.linkedin.com/in/bengj10)\n",
       "- **Instagram:** [bengj10](https://www.instagram.com/bengj10)\n",
       "- **Followers:** 5 | **Following:** 10\n",
       "- **Stars on Repositories:** 20\n",
       "\n",
       "## Notable Repositories and Projects\n",
       "Here are some highlighted repositories showcasing Ben's skills in machine learning and software development:\n",
       "\n",
       "1. **[Network-Security-System](https://github.com/BenGJ10/Network-Security-System)**\n",
       "   - **Description:** An end-to-end MLOps project focused on building a network security system. Features include ETL pipelines.\n",
       "   - **Language:** Python\n",
       "\n",
       "2. **[Rainfall-Prediction-Model-Deployment](https://github.com/BenGJ10/Rainfall-Prediction-Model-Deployment)**\n",
       "   - **Description:** Utilizes a Random Forest model to predict rainfall based on various atmospheric parameters. Deployment forthcoming.\n",
       "   - **Language:** Jupyter Notebook\n",
       "\n",
       "3. **[Student-Performance-End-to-End-ML-Project](https://github.com/BenGJ10/Student-Performance-End-to-End-ML-Project)**\n",
       "   - **Description:** A basic end-to-end ML project featuring deployment with AWS ECR and Docker.\n",
       "   - **Language:** Jupyter Notebook\n",
       "\n",
       "4. **[LockX](https://github.com/BenGJ10/LockX)**\n",
       "   - **Description:** A project focused on automated deadlock detection tools in operating systems.\n",
       "   - **Language:** JavaScript\n",
       "\n",
       "5. **[Machine-Learning-Bootcamp](https://github.com/BenGJ10/Machine-Learning-Bootcamp)**\n",
       "   - **Description:** Repository containing files and notes from the Complete ML-NLP-MLOps Bootcamp by Krish Naik.\n",
       "   - **Language:** Jupyter Notebook\n",
       "\n",
       "6. **[Machine-Learning-Projects](https://github.com/BenGJ10/Machine-Learning-Projects)**\n",
       "   - **Description:** A collection repository for various machine learning projects that Ben has worked on.\n",
       "   - **Language:** Jupyter Notebook\n",
       "\n",
       "## Technical Skills\n",
       "- Proficient in **Python** and **JavaScript**\n",
       "- Experienced with **Jupyter Notebook**, **AWS**, and **Docker**\n",
       "- Familiar with MLOps practices and machine learning models, especially Random Forest\n",
       "\n",
       "## Summary\n",
       "Ben Gregory John is a motivated aspiring data scientist and developer with foundational experience in machine learning and software development. He demonstrates initiative through the creation of diverse projects, particularly in MLOps and network security. His academic background in computer science positions him to make impactful contributions in tech-driven fields, appealing to tech recruiters and investors alike."
      ],
      "text/plain": [
       "<IPython.core.display.Markdown object>"
      ]
     },
     "metadata": {},
     "output_type": "display_data"
    }
   ],
   "source": [
    "stream_portfolio(\"Ben Gregory John\", \"https://github.com/BenGJ10\")"
   ]
  },
  {
   "cell_type": "code",
   "execution_count": null,
   "id": "636032c6-1ff7-4801-bc7a-c84d0d42105c",
   "metadata": {},
   "outputs": [],
   "source": []
  }
 ],
 "metadata": {
  "kernelspec": {
   "display_name": "Python 3 (ipykernel)",
   "language": "python",
   "name": "python3"
  },
  "language_info": {
   "codemirror_mode": {
    "name": "ipython",
    "version": 3
   },
   "file_extension": ".py",
   "mimetype": "text/x-python",
   "name": "python",
   "nbconvert_exporter": "python",
   "pygments_lexer": "ipython3",
   "version": "3.11.12"
  }
 },
 "nbformat": 4,
 "nbformat_minor": 5
}
